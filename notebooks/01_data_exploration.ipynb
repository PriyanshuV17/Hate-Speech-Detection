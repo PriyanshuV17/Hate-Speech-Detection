{
 "cells": [
  {
   "cell_type": "code",
   "execution_count": null,
   "id": "56b2be6d",
   "metadata": {},
   "outputs": [],
   "source": [
    "import pandas as pd\n",
    "import matplotlib.pyplot as plt\n",
    "import seaborn as sns\n",
    "from wordcloud import WordCloud\n",
    "\n",
    "from src.utils.config_loader import ConfigLoader\n",
    "\n",
    "# Load config for labels\n",
    "config = ConfigLoader()\n",
    "label_map = config.get_labels()\n",
    "label_names = list(label_map.values())"
   ]
  },
  {
   "cell_type": "code",
   "execution_count": null,
   "id": "bf67cb10",
   "metadata": {},
   "outputs": [],
   "source": [
    "df = pd.read_csv('../data/labeled_data.csv')  # adjust path if needed\n",
    "print(\"Shape:\", df.shape)\n",
    "print(\"Columns:\", df.columns.tolist())\n",
    "print(df.head())"
   ]
  },
  {
   "cell_type": "code",
   "execution_count": null,
   "id": "2c865b87",
   "metadata": {},
   "outputs": [],
   "source": [
    "class_counts = df['label_id'].value_counts().sort_index()\n",
    "\n",
    "plt.figure(figsize=(10,5))\n",
    "sns.barplot(x=label_names, y=class_counts.values, palette=\"viridis\")\n",
    "plt.title('Sample Count per Class')\n",
    "plt.ylabel('Count')\n",
    "plt.xticks(rotation=45, ha='right')\n",
    "plt.tight_layout()\n",
    "plt.savefig('../saved_models/class_distribution.png', dpi=300)\n",
    "plt.show()\n",
    "\n",
    "print(\"Class counts:\\n\", class_counts)"
   ]
  },
  {
   "cell_type": "code",
   "execution_count": null,
   "id": "98cf8b8a",
   "metadata": {},
   "outputs": [],
   "source": [
    "df['comment_length'] = df['comment'].astype(str).str.len()\n",
    "\n",
    "plt.figure(figsize=(10,5))\n",
    "sns.histplot(data=df, x='comment_length', hue='label_id', bins=50, multiple='stack')\n",
    "plt.title('Comment Length Distribution by Class')\n",
    "plt.xlabel('Comment Length')\n",
    "plt.ylabel('Frequency')\n",
    "plt.tight_layout()\n",
    "plt.show()\n",
    "\n",
    "print(\"Avg. comment length per class:\\n\", df.groupby('label_id')['comment_length'].mean())"
   ]
  },
  {
   "cell_type": "code",
   "execution_count": null,
   "id": "e22c0ecd",
   "metadata": {},
   "outputs": [],
   "source": [
    "for label_id, name in label_map.items():\n",
    "    print(f\"\\n{name} samples:\")\n",
    "    samples = df[df['label_id'] == label_id]['comment'].sample(3, random_state=1).tolist()\n",
    "    for s in samples:\n",
    "        print(\"-\", s)"
   ]
  },
  {
   "cell_type": "code",
   "execution_count": null,
   "id": "a2e153e3",
   "metadata": {},
   "outputs": [],
   "source": [
    "for label_id, name in label_map.items():\n",
    "    text = ' '.join(df[df['label_id'] == label_id]['comment'].astype(str))\n",
    "    if text.strip():  # avoid empty wordclouds\n",
    "        wc = WordCloud(width=800, height=500, background_color='white').generate(text)\n",
    "        plt.figure(figsize=(8,5))\n",
    "        plt.imshow(wc, interpolation='bilinear')\n",
    "        plt.axis('off')\n",
    "        plt.title(f'WordCloud - {name}')\n",
    "        plt.tight_layout()\n",
    "        plt.savefig(f'../saved_models/wordcloud_{name.replace(\" \", \"_\").lower()}.png', dpi=300)\n",
    "        plt.show()"
   ]
  },
  {
   "cell_type": "code",
   "execution_count": null,
   "id": "5ee74bfb",
   "metadata": {},
   "outputs": [],
   "source": [
    "plt.figure(figsize=(8,5))\n",
    "sns.countplot(data=df, x='language', order=df['language'].value_counts().index, palette=\"Set2\")\n",
    "plt.title('Distribution of Comments by Language')\n",
    "plt.xticks(rotation=45, ha='right')\n",
    "plt.tight_layout()\n",
    "plt.savefig('../saved_models/language_distribution.png', dpi=300)\n",
    "plt.show()\n",
    "\n",
    "print(\"Language counts:\\n\", df['language'].value_counts())"
   ]
  },
  {
   "cell_type": "code",
   "execution_count": null,
   "id": "4ade5c48",
   "metadata": {},
   "outputs": [],
   "source": []
  },
  {
   "cell_type": "code",
   "execution_count": null,
   "id": "6a697355",
   "metadata": {},
   "outputs": [],
   "source": []
  }
 ],
 "metadata": {
  "kernelspec": {
   "display_name": "verma",
   "language": "python",
   "name": "python3"
  },
  "language_info": {
   "codemirror_mode": {
    "name": "ipython",
    "version": 3
   },
   "file_extension": ".py",
   "mimetype": "text/x-python",
   "name": "python",
   "nbconvert_exporter": "python",
   "pygments_lexer": "ipython3",
   "version": "3.10.18"
  }
 },
 "nbformat": 4,
 "nbformat_minor": 5
}
